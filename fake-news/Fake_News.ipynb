{
  "nbformat": 4,
  "nbformat_minor": 0,
  "metadata": {
    "colab": {
      "name": "Fake_News.ipynb",
      "provenance": [],
      "collapsed_sections": []
    },
    "kernelspec": {
      "name": "python3",
      "display_name": "Python 3"
    },
    "language_info": {
      "name": "python"
    },
    "accelerator": "GPU"
  },
  "cells": [
    {
      "cell_type": "markdown",
      "metadata": {
        "id": "nwtzUhXn-dGQ"
      },
      "source": [
        "**Notebook contains following sections:**\n",
        "\n",
        "\n",
        "*   EDA of raw data\n",
        "*   Data Cleansing\n",
        "*   Preprocessing\n",
        "*   Creating word embeddings\n",
        "*   Model creation\n",
        "*   Setting up train and test dataloader\n",
        "*   Defining training and evaluation setup\n",
        "*   Model training\n",
        "*   Model evaluation\n",
        "*   Generate submission\n",
        "\n",
        "\n",
        "\n",
        "\n",
        "\n",
        "\n",
        "\n"
      ]
    },
    {
      "cell_type": "code",
      "metadata": {
        "id": "PAVMgLDfeO8U",
        "colab": {
          "base_uri": "https://localhost:8080/"
        },
        "outputId": "b02d7ba7-593c-4268-861b-3ca00fdfe2e0"
      },
      "source": [
        "from google.colab import drive\n",
        "drive.mount('/content/drive')"
      ],
      "execution_count": 1,
      "outputs": [
        {
          "output_type": "stream",
          "text": [
            "Mounted at /content/drive\n"
          ],
          "name": "stdout"
        }
      ]
    },
    {
      "cell_type": "code",
      "metadata": {
        "id": "JWz2n-eIe4g0",
        "colab": {
          "base_uri": "https://localhost:8080/"
        },
        "outputId": "a7a36805-7983-4a58-a764-8fc4a4d09b68"
      },
      "source": [
        "import pandas as pd\n",
        "import numpy as np\n",
        "\n",
        "from matplotlib import pyplot as plt\n",
        "import seaborn as sns\n",
        "\n",
        "from nltk.corpus import stopwords\n",
        "from textblob import Word\n",
        "import re\n",
        "import nltk\n",
        "nltk.download('wordnet')\n",
        "nltk.download('stopwords')\n",
        "stop_words = stopwords.words('english')\n",
        "\n",
        "from sklearn.model_selection import train_test_split\n",
        "from sklearn.metrics import classification_report, confusion_matrix, roc_curve, roc_auc_score\n",
        "from sklearn.preprocessing import StandardScaler\n",
        "\n",
        "from keras.preprocessing.text import Tokenizer\n",
        "from keras.preprocessing import sequence\n",
        "import gensim.downloader\n",
        "import pickle\n",
        "from torch.utils.data import Dataset\n",
        "import torch\n",
        "from torch.nn import Module\n",
        "import torch.nn as nn\n",
        "\n",
        "import warnings\n",
        "warnings.filterwarnings('ignore')"
      ],
      "execution_count": 2,
      "outputs": [
        {
          "output_type": "stream",
          "text": [
            "[nltk_data] Downloading package wordnet to /root/nltk_data...\n",
            "[nltk_data]   Unzipping corpora/wordnet.zip.\n",
            "[nltk_data] Downloading package stopwords to /root/nltk_data...\n",
            "[nltk_data]   Unzipping corpora/stopwords.zip.\n"
          ],
          "name": "stdout"
        }
      ]
    },
    {
      "cell_type": "markdown",
      "metadata": {
        "id": "mDMBzcqn_PNW"
      },
      "source": [
        "**Basic EDA of raw train data**\n",
        "\n"
      ]
    },
    {
      "cell_type": "code",
      "metadata": {
        "id": "nqnM_hMDfCJY"
      },
      "source": [
        "train_path = '/content/drive/My Drive/fake-news/train.csv'\n",
        "test_path = '/content/drive/My Drive/fake-news/test.csv'\n",
        "submission_path = '/content/drive/My Drive/fake-news/'"
      ],
      "execution_count": 3,
      "outputs": []
    },
    {
      "cell_type": "code",
      "metadata": {
        "id": "58AWEMla4Yqr"
      },
      "source": [
        "df_raw = pd.read_csv(train_path)"
      ],
      "execution_count": 4,
      "outputs": []
    },
    {
      "cell_type": "code",
      "metadata": {
        "colab": {
          "base_uri": "https://localhost:8080/",
          "height": 204
        },
        "id": "v3rwH5OxfTNl",
        "outputId": "72ff8150-d909-4f95-aebe-6c0368221ceb"
      },
      "source": [
        "df_raw.head()"
      ],
      "execution_count": 5,
      "outputs": [
        {
          "output_type": "execute_result",
          "data": {
            "text/html": [
              "<div>\n",
              "<style scoped>\n",
              "    .dataframe tbody tr th:only-of-type {\n",
              "        vertical-align: middle;\n",
              "    }\n",
              "\n",
              "    .dataframe tbody tr th {\n",
              "        vertical-align: top;\n",
              "    }\n",
              "\n",
              "    .dataframe thead th {\n",
              "        text-align: right;\n",
              "    }\n",
              "</style>\n",
              "<table border=\"1\" class=\"dataframe\">\n",
              "  <thead>\n",
              "    <tr style=\"text-align: right;\">\n",
              "      <th></th>\n",
              "      <th>id</th>\n",
              "      <th>title</th>\n",
              "      <th>author</th>\n",
              "      <th>text</th>\n",
              "      <th>label</th>\n",
              "    </tr>\n",
              "  </thead>\n",
              "  <tbody>\n",
              "    <tr>\n",
              "      <th>0</th>\n",
              "      <td>0</td>\n",
              "      <td>House Dem Aide: We Didn’t Even See Comey’s Let...</td>\n",
              "      <td>Darrell Lucus</td>\n",
              "      <td>House Dem Aide: We Didn’t Even See Comey’s Let...</td>\n",
              "      <td>1</td>\n",
              "    </tr>\n",
              "    <tr>\n",
              "      <th>1</th>\n",
              "      <td>1</td>\n",
              "      <td>FLYNN: Hillary Clinton, Big Woman on Campus - ...</td>\n",
              "      <td>Daniel J. Flynn</td>\n",
              "      <td>Ever get the feeling your life circles the rou...</td>\n",
              "      <td>0</td>\n",
              "    </tr>\n",
              "    <tr>\n",
              "      <th>2</th>\n",
              "      <td>2</td>\n",
              "      <td>Why the Truth Might Get You Fired</td>\n",
              "      <td>Consortiumnews.com</td>\n",
              "      <td>Why the Truth Might Get You Fired October 29, ...</td>\n",
              "      <td>1</td>\n",
              "    </tr>\n",
              "    <tr>\n",
              "      <th>3</th>\n",
              "      <td>3</td>\n",
              "      <td>15 Civilians Killed In Single US Airstrike Hav...</td>\n",
              "      <td>Jessica Purkiss</td>\n",
              "      <td>Videos 15 Civilians Killed In Single US Airstr...</td>\n",
              "      <td>1</td>\n",
              "    </tr>\n",
              "    <tr>\n",
              "      <th>4</th>\n",
              "      <td>4</td>\n",
              "      <td>Iranian woman jailed for fictional unpublished...</td>\n",
              "      <td>Howard Portnoy</td>\n",
              "      <td>Print \\nAn Iranian woman has been sentenced to...</td>\n",
              "      <td>1</td>\n",
              "    </tr>\n",
              "  </tbody>\n",
              "</table>\n",
              "</div>"
            ],
            "text/plain": [
              "   id  ... label\n",
              "0   0  ...     1\n",
              "1   1  ...     0\n",
              "2   2  ...     1\n",
              "3   3  ...     1\n",
              "4   4  ...     1\n",
              "\n",
              "[5 rows x 5 columns]"
            ]
          },
          "metadata": {
            "tags": []
          },
          "execution_count": 5
        }
      ]
    },
    {
      "cell_type": "code",
      "metadata": {
        "colab": {
          "base_uri": "https://localhost:8080/"
        },
        "id": "vAW9uTbLjzOt",
        "outputId": "0e0c9051-3c8d-4281-f78d-3948f48fd19e"
      },
      "source": [
        "df_raw.shape"
      ],
      "execution_count": 6,
      "outputs": [
        {
          "output_type": "execute_result",
          "data": {
            "text/plain": [
              "(20800, 5)"
            ]
          },
          "metadata": {
            "tags": []
          },
          "execution_count": 6
        }
      ]
    },
    {
      "cell_type": "code",
      "metadata": {
        "colab": {
          "base_uri": "https://localhost:8080/"
        },
        "id": "zveRd4x6fW_1",
        "outputId": "cdf2abd3-d8dc-49ac-8d23-6ae4bce59cd1"
      },
      "source": [
        "pd.isnull(df_raw).any()"
      ],
      "execution_count": 7,
      "outputs": [
        {
          "output_type": "execute_result",
          "data": {
            "text/plain": [
              "id        False\n",
              "title      True\n",
              "author     True\n",
              "text       True\n",
              "label     False\n",
              "dtype: bool"
            ]
          },
          "metadata": {
            "tags": []
          },
          "execution_count": 7
        }
      ]
    },
    {
      "cell_type": "markdown",
      "metadata": {
        "id": "SFvgPpVX_ld9"
      },
      "source": [
        "There are some NULLs in the data"
      ]
    },
    {
      "cell_type": "code",
      "metadata": {
        "colab": {
          "base_uri": "https://localhost:8080/",
          "height": 279
        },
        "id": "zaK3c9jbfyFx",
        "outputId": "9c512766-c152-4708-a1f6-2038b30eafd5"
      },
      "source": [
        "grouped_data = df_raw.groupby(\"label\")[\"id\"].count().reset_index()\n",
        "sns.barplot(x=\"label\", y=\"id\", data=grouped_data)\n",
        "plt.ylabel(\"count\")\n",
        "plt.show()"
      ],
      "execution_count": 8,
      "outputs": [
        {
          "output_type": "display_data",
          "data": {
            "image/png": "[encoded data removed]",
            "text/plain": [
              "<Figure size 432x288 with 1 Axes>"
            ]
          },
          "metadata": {
            "tags": [],
            "needs_background": "light"
          }
        }
      ]
    },
    {
      "cell_type": "markdown",
      "metadata": {
        "id": "jYxn-jAj_hgd"
      },
      "source": [
        "Classes look balanced"
      ]
    },
    {
      "cell_type": "code",
      "metadata": {
        "id": "gz7lwRCZgIZN"
      },
      "source": [
        "grouped_data = df_raw.groupby(\"author\")[[\"id\",\"label\"]].agg({\"id\":\"count\",\"label\":\"sum\"}).reset_index()"
      ],
      "execution_count": 9,
      "outputs": []
    },
    {
      "cell_type": "code",
      "metadata": {
        "colab": {
          "base_uri": "https://localhost:8080/",
          "height": 419
        },
        "id": "VanoNWFugYn2",
        "outputId": "2b41a01b-3858-41a1-e5e0-1eb2e9b4320c"
      },
      "source": [
        "grouped_data[grouped_data.label==grouped_data.id].sort_values(by=\"label\",ascending=False)"
      ],
      "execution_count": 10,
      "outputs": [
        {
          "output_type": "execute_result",
          "data": {
            "text/html": [
              "<div>\n",
              "<style scoped>\n",
              "    .dataframe tbody tr th:only-of-type {\n",
              "        vertical-align: middle;\n",
              "    }\n",
              "\n",
              "    .dataframe tbody tr th {\n",
              "        vertical-align: top;\n",
              "    }\n",
              "\n",
              "    .dataframe thead th {\n",
              "        text-align: right;\n",
              "    }\n",
              "</style>\n",
              "<table border=\"1\" class=\"dataframe\">\n",
              "  <thead>\n",
              "    <tr style=\"text-align: right;\">\n",
              "      <th></th>\n",
              "      <th>author</th>\n",
              "      <th>id</th>\n",
              "      <th>label</th>\n",
              "    </tr>\n",
              "  </thead>\n",
              "  <tbody>\n",
              "    <tr>\n",
              "      <th>3929</th>\n",
              "      <td>admin</td>\n",
              "      <td>193</td>\n",
              "      <td>193</td>\n",
              "    </tr>\n",
              "    <tr>\n",
              "      <th>2939</th>\n",
              "      <td>Pakalert</td>\n",
              "      <td>86</td>\n",
              "      <td>86</td>\n",
              "    </tr>\n",
              "    <tr>\n",
              "      <th>1111</th>\n",
              "      <td>Eddy Lavine</td>\n",
              "      <td>85</td>\n",
              "      <td>85</td>\n",
              "    </tr>\n",
              "    <tr>\n",
              "      <th>3518</th>\n",
              "      <td>Starkman</td>\n",
              "      <td>84</td>\n",
              "      <td>84</td>\n",
              "    </tr>\n",
              "    <tr>\n",
              "      <th>1376</th>\n",
              "      <td>Gillian</td>\n",
              "      <td>82</td>\n",
              "      <td>82</td>\n",
              "    </tr>\n",
              "    <tr>\n",
              "      <th>...</th>\n",
              "      <td>...</td>\n",
              "      <td>...</td>\n",
              "      <td>...</td>\n",
              "    </tr>\n",
              "    <tr>\n",
              "      <th>1656</th>\n",
              "      <td>James Staten</td>\n",
              "      <td>1</td>\n",
              "      <td>1</td>\n",
              "    </tr>\n",
              "    <tr>\n",
              "      <th>1652</th>\n",
              "      <td>James Richard Tyrer</td>\n",
              "      <td>1</td>\n",
              "      <td>1</td>\n",
              "    </tr>\n",
              "    <tr>\n",
              "      <th>1647</th>\n",
              "      <td>James Miller</td>\n",
              "      <td>1</td>\n",
              "      <td>1</td>\n",
              "    </tr>\n",
              "    <tr>\n",
              "      <th>1646</th>\n",
              "      <td>James Michael</td>\n",
              "      <td>1</td>\n",
              "      <td>1</td>\n",
              "    </tr>\n",
              "    <tr>\n",
              "      <th>4200</th>\n",
              "      <td>“Shoot First Ask Questions Later” : What Happe...</td>\n",
              "      <td>1</td>\n",
              "      <td>1</td>\n",
              "    </tr>\n",
              "  </tbody>\n",
              "</table>\n",
              "<p>1976 rows × 3 columns</p>\n",
              "</div>"
            ],
            "text/plain": [
              "                                                 author   id  label\n",
              "3929                                              admin  193    193\n",
              "2939                                           Pakalert   86     86\n",
              "1111                                        Eddy Lavine   85     85\n",
              "3518                                           Starkman   84     84\n",
              "1376                                            Gillian   82     82\n",
              "...                                                 ...  ...    ...\n",
              "1656                                       James Staten    1      1\n",
              "1652                                James Richard Tyrer    1      1\n",
              "1647                                       James Miller    1      1\n",
              "1646                                      James Michael    1      1\n",
              "4200  “Shoot First Ask Questions Later” : What Happe...    1      1\n",
              "\n",
              "[1976 rows x 3 columns]"
            ]
          },
          "metadata": {
            "tags": []
          },
          "execution_count": 10
        }
      ]
    },
    {
      "cell_type": "markdown",
      "metadata": {
        "id": "-Xlvh5Bl_pdm"
      },
      "source": [
        "Some of the authors have 100% fake news. Author can be good predictor."
      ]
    },
    {
      "cell_type": "markdown",
      "metadata": {
        "id": "948WE7vZAVSq"
      },
      "source": [
        "**Data Cleansing**"
      ]
    },
    {
      "cell_type": "code",
      "metadata": {
        "id": "feJga0JPhwuJ"
      },
      "source": [
        "df_raw.title.fillna(\"NA\", inplace=True)\n",
        "df_raw.text.fillna(\"NA\", inplace=True)\n",
        "df_raw.author.fillna(\"NA\", inplace=True)\n",
        "\n",
        "df_raw['title_length'] = df_raw.title.apply(lambda x: len(x.split()) if x != \"NA\" else 0)\n",
        "df_raw['text_length'] = df_raw.text.apply(lambda x: len(x.split()) if x != \"NA\" else 0)"
      ],
      "execution_count": 11,
      "outputs": []
    },
    {
      "cell_type": "code",
      "metadata": {
        "colab": {
          "base_uri": "https://localhost:8080/",
          "height": 297
        },
        "id": "6mfNFa4Yk8PQ",
        "outputId": "1a5618c3-5d2b-4034-fe4a-0be6b8968b46"
      },
      "source": [
        "df_raw[[\"text_length\",\"title_length\"]].describe([0.05,0.95])"
      ],
      "execution_count": 12,
      "outputs": [
        {
          "output_type": "execute_result",
          "data": {
            "text/html": [
              "<div>\n",
              "<style scoped>\n",
              "    .dataframe tbody tr th:only-of-type {\n",
              "        vertical-align: middle;\n",
              "    }\n",
              "\n",
              "    .dataframe tbody tr th {\n",
              "        vertical-align: top;\n",
              "    }\n",
              "\n",
              "    .dataframe thead th {\n",
              "        text-align: right;\n",
              "    }\n",
              "</style>\n",
              "<table border=\"1\" class=\"dataframe\">\n",
              "  <thead>\n",
              "    <tr style=\"text-align: right;\">\n",
              "      <th></th>\n",
              "      <th>text_length</th>\n",
              "      <th>title_length</th>\n",
              "    </tr>\n",
              "  </thead>\n",
              "  <tbody>\n",
              "    <tr>\n",
              "      <th>count</th>\n",
              "      <td>20800.000000</td>\n",
              "      <td>20800.000000</td>\n",
              "    </tr>\n",
              "    <tr>\n",
              "      <th>mean</th>\n",
              "      <td>758.882548</td>\n",
              "      <td>12.087500</td>\n",
              "    </tr>\n",
              "    <tr>\n",
              "      <th>std</th>\n",
              "      <td>869.332866</td>\n",
              "      <td>4.514065</td>\n",
              "    </tr>\n",
              "    <tr>\n",
              "      <th>min</th>\n",
              "      <td>0.000000</td>\n",
              "      <td>0.000000</td>\n",
              "    </tr>\n",
              "    <tr>\n",
              "      <th>5%</th>\n",
              "      <td>40.000000</td>\n",
              "      <td>5.000000</td>\n",
              "    </tr>\n",
              "    <tr>\n",
              "      <th>50%</th>\n",
              "      <td>554.000000</td>\n",
              "      <td>12.000000</td>\n",
              "    </tr>\n",
              "    <tr>\n",
              "      <th>95%</th>\n",
              "      <td>1871.000000</td>\n",
              "      <td>18.000000</td>\n",
              "    </tr>\n",
              "    <tr>\n",
              "      <th>max</th>\n",
              "      <td>24234.000000</td>\n",
              "      <td>72.000000</td>\n",
              "    </tr>\n",
              "  </tbody>\n",
              "</table>\n",
              "</div>"
            ],
            "text/plain": [
              "        text_length  title_length\n",
              "count  20800.000000  20800.000000\n",
              "mean     758.882548     12.087500\n",
              "std      869.332866      4.514065\n",
              "min        0.000000      0.000000\n",
              "5%        40.000000      5.000000\n",
              "50%      554.000000     12.000000\n",
              "95%     1871.000000     18.000000\n",
              "max    24234.000000     72.000000"
            ]
          },
          "metadata": {
            "tags": []
          },
          "execution_count": 12
        }
      ]
    },
    {
      "cell_type": "code",
      "metadata": {
        "colab": {
          "base_uri": "https://localhost:8080/",
          "height": 335
        },
        "id": "7jzdzKocjc8a",
        "outputId": "8326e6a5-5fc4-4a31-80d5-78cf7eb43e72"
      },
      "source": [
        "fig, ax = plt.subplots(nrows=1, ncols=2, figsize=(15,5))\n",
        "sns.distplot(df_raw[(df_raw.text_length<4000) & (df_raw.label==1)][\"text_length\"],ax=ax[0],label=\"1\", kde=False)\n",
        "sns.distplot(df_raw[(df_raw.text_length<4000) & (df_raw.label==0)][\"text_length\"],ax=ax[0],label=\"0\", kde=False)\n",
        "ax[0].legend()\n",
        "\n",
        "sns.distplot(df_raw[(df_raw.text_length<4000) & (df_raw.label==1)][\"title_length\"],ax=ax[1],label=\"1\", kde=False)\n",
        "sns.distplot(df_raw[(df_raw.text_length<4000) & (df_raw.label==0)][\"title_length\"],ax=ax[1],label=\"0\",kde=False)\n",
        "ax[1].legend()\n",
        "\n",
        "plt.show()"
      ],
      "execution_count": 13,
      "outputs": [
        {
          "output_type": "display_data",
          "data": {
            "image/png": "[encoded data removed]",
            "text/plain": [
              "<Figure size 1080x360 with 2 Axes>"
            ]
          },
          "metadata": {
            "tags": [],
            "needs_background": "light"
          }
        }
      ]
    },
    {
      "cell_type": "markdown",
      "metadata": {
        "id": "NXo8xTpA_wye"
      },
      "source": [
        "Length of the title and title also seem to be correlating with the label. Smaller text and titles are more fake"
      ]
    },
    {
      "cell_type": "code",
      "metadata": {
        "id": "FURtwKht5ETQ"
      },
      "source": [
        "# Hyper parameters for the model\n",
        "\n",
        "VOCAB_SIZE = 10000\n",
        "MAX_LEN_TEXT = 500\n",
        "MAX_LEN_TITLE = 50\n",
        "VEC_SIZE = 300\n",
        "BATCH_SIZE = 64\n",
        "NUM_CLASSES = 1\n",
        "HIDDEN_DIM_TITLE = 64\n",
        "HIDDEN_DIM_TEXT = 128\n",
        "LEARNING_RATE = 1e-3\n",
        "EPOCHS = 30"
      ],
      "execution_count": 32,
      "outputs": []
    },
    {
      "cell_type": "code",
      "metadata": {
        "colab": {
          "base_uri": "https://localhost:8080/"
        },
        "id": "UIdrqcYH5EBw",
        "outputId": "4177aa5e-5514-43f7-e9b3-d5eded0945ef"
      },
      "source": [
        "device = torch.device(\"cuda\" if torch.cuda.is_available() else \"cpu\")\n",
        "\n",
        "print (device)"
      ],
      "execution_count": 15,
      "outputs": [
        {
          "output_type": "stream",
          "text": [
            "cuda\n"
          ],
          "name": "stdout"
        }
      ]
    },
    {
      "cell_type": "code",
      "metadata": {
        "id": "P14YYDCX75xN"
      },
      "source": [
        "df_train, df_test = train_test_split(df_raw[[\"id\",\"author\",\"title\",\"text\",\"label\"]],test_size=0.1,random_state=1,stratify=df_raw[\"label\"])\n",
        "\n",
        "df_train, df_val = train_test_split(df_train[[\"id\",\"author\",\"title\",\"text\",\"label\"]],test_size=0.1,random_state=1,stratify=df_train[\"label\"])"
      ],
      "execution_count": 62,
      "outputs": []
    },
    {
      "cell_type": "markdown",
      "metadata": {
        "id": "B0X6asSxAZcU"
      },
      "source": [
        "**Preprocessing**"
      ]
    },
    {
      "cell_type": "code",
      "metadata": {
        "id": "V21S4-RO5D4J"
      },
      "source": [
        "# class to perform all the preprocessing steps\n",
        "\n",
        "class Preprocessing():\n",
        "  def __init__(self, tokenizer, scaler, sequence, author_fake_ratio=None):\n",
        "    self.tokenizer = tokenizer\n",
        "    self.author_fake_ratio = author_fake_ratio\n",
        "    self.scaler = scaler\n",
        "    self.sequence = sequence\n",
        "\n",
        "  def _text_processing(self, df):\n",
        "    df['title_length'] = df.title.apply(lambda x: len(x.split()) if x != \"NA\" else 0)\n",
        "    df['text_length'] = df.text.apply(lambda x: len(x.split()) if x != \"NA\" else 0)\n",
        "\n",
        "    df['title'] = df.title.apply(lambda x:\n",
        "                                          \" \".join(Word(re.sub(r'[^a-zA-Z]',' ',w).lower()).lemmatize() \n",
        "                                          for w in x.split() \n",
        "                                          if Word(re.sub(r'[^a-zA-Z]',' ',w).lower()).lemmatize() not in stop_words and len(Word(re.sub(r'[^a-zA-Z]',' ',w).lower()).lemmatize()) >= 2\n",
        "                                          )\n",
        "                                          )\n",
        "\n",
        "    df['author'] = df.author.apply(lambda x:\n",
        "                                            \" \".join(Word(re.sub(r'[^a-zA-Z]',' ',w).lower()).lemmatize() \n",
        "                                            for w in x.split() \n",
        "                                            if len(Word(re.sub(r'[^a-zA-Z]',' ',w).lower()).lemmatize()) >= 2\n",
        "                                            )\n",
        "                                            )\n",
        "\n",
        "    df[\"author\"] = df.apply(lambda row: \"NA\" if len(row[\"author\"])<2 else row[\"author\"],axis=1)\n",
        "\n",
        "    df['text'] = df.text.apply(lambda x:\n",
        "                                        \" \".join(Word(re.sub(r'[^a-zA-Z]',' ',w).lower()).lemmatize() \n",
        "                                        for w in x.split() \n",
        "                                        if Word(re.sub(r'[^a-zA-Z]',' ',w).lower()).lemmatize() not in stop_words and len(Word(re.sub(r'[^a-zA-Z]',' ',w).lower()).lemmatize()) >= 2\n",
        "                                        )\n",
        "                                        )\n",
        "    return df\n",
        "\n",
        "  def _data_cleansing(self, df ):\n",
        "    df.title.fillna(\"NA\", inplace=True)\n",
        "    df.text.fillna(\"NA\", inplace=True)\n",
        "    df.author.fillna(\"NA\", inplace=True)\n",
        "\n",
        "    return df\n",
        "\n",
        "  def _tokenize(self, df, stage=\"train\"):\n",
        "    X_text = df[\"text\"]\n",
        "    X_title = df[\"author\"] + \" \" + df[\"title\"]\n",
        "    X_length = np.array(df[[\"title_length\",\"text_length\"]],\"float\")\n",
        "    X_id = df[\"id\"]\n",
        "\n",
        "    if stage == \"train\":\n",
        "      self.tokenizer.fit_on_texts(np.concatenate([X_text,X_title], axis = 0))\n",
        "      self.scaler.fit(X_length)\n",
        "\n",
        "      X_length = self.scaler.transform(X_length)\n",
        "      X_text_seq = self.tokenizer.texts_to_sequences(X_text)\n",
        "      X_title_seq = self.tokenizer.texts_to_sequences(X_title)\n",
        "      X_text_seq = self.sequence.pad_sequences(X_text_seq, maxlen=MAX_LEN_TEXT,padding=\"post\",truncating=\"post\")\n",
        "      X_title_seq = self.sequence.pad_sequences(X_title_seq, maxlen=MAX_LEN_TITLE,padding=\"post\",truncating=\"post\")\n",
        "      X_seq = np.concatenate([X_text_seq, X_title_seq, X_length], axis=1)\n",
        "\n",
        "    else:\n",
        "      X_length = self.scaler.transform(X_length)\n",
        "      X_text_seq = self.tokenizer.texts_to_sequences(X_text)\n",
        "      X_title_seq = self.tokenizer.texts_to_sequences(X_title)\n",
        "      X_text_seq = self.sequence.pad_sequences(X_text_seq, maxlen=MAX_LEN_TEXT,padding=\"post\",truncating=\"post\")\n",
        "      X_title_seq = self.sequence.pad_sequences(X_title_seq, maxlen=MAX_LEN_TITLE,padding=\"post\",truncating=\"post\")\n",
        "      X_seq = np.concatenate([X_text_seq, X_title_seq, X_length], axis=1)\n",
        "\n",
        "    return X_seq    \n",
        "\n",
        "\n",
        "\n",
        "  def process(self, df, stage):\n",
        "    ids = df[\"id\"]\n",
        "    df = self._data_cleansing(df)\n",
        "    df = self._text_processing(df)\n",
        "    \n",
        "    X = self._tokenize(df, stage)\n",
        "\n",
        "    if stage == \"test\":\n",
        "      return X, ids\n",
        "\n",
        "    else:\n",
        "      y = df[\"label\"]\n",
        "      return X, y"
      ],
      "execution_count": 17,
      "outputs": []
    },
    {
      "cell_type": "code",
      "metadata": {
        "id": "6PU2qlsH5D2C"
      },
      "source": [
        "# tokenizer for text columns\n",
        "tokenizer = Tokenizer(num_words=VOCAB_SIZE)\n",
        "\n",
        "# standard scaler for numeric features\n",
        "scaler = StandardScaler()\n",
        "\n",
        "preprocessor = Preprocessing(tokenizer, scaler, sequence)"
      ],
      "execution_count": 18,
      "outputs": []
    },
    {
      "cell_type": "code",
      "metadata": {
        "id": "3IxLpRDr5Drt"
      },
      "source": [
        "X_train, y_train = preprocessor.process(df_train, \"train\")\n",
        "X_val, y_val = preprocessor.process(df_val, \"val\")\n",
        "X_test, y_test = preprocessor.process(df_test, \"val\")"
      ],
      "execution_count": 64,
      "outputs": []
    },
    {
      "cell_type": "code",
      "metadata": {
        "id": "irY5X9ZV89SH"
      },
      "source": [
        "# converting to tensors\n",
        "\n",
        "y_train = torch.from_numpy(y_train.to_numpy().astype('float')).float()\n",
        "y_val = torch.from_numpy(y_val.to_numpy().astype('float')).float()\n",
        "\n",
        "X_train = torch.from_numpy(X_train).float()\n",
        "X_val = torch.from_numpy(X_val).float()\n",
        "\n",
        "y_test = torch.from_numpy(y_test.to_numpy().astype('float')).float()\n",
        "\n",
        "X_test = torch.from_numpy(X_test).float()"
      ],
      "execution_count": 65,
      "outputs": []
    },
    {
      "cell_type": "markdown",
      "metadata": {
        "id": "oTGhAnZhAll5"
      },
      "source": [
        "**Word Embeddings**"
      ]
    },
    {
      "cell_type": "code",
      "metadata": {
        "id": "DDeUV7D59AS-"
      },
      "source": [
        "# w2v_vectors = gensim.downloader.load('word2vec-google-news-300')\n",
        "embed_path = \"/content/drive/My Drive/fake-news/w2v_vectors.pickle\"\n",
        "\n",
        "# with open(embed_path, 'wb') as f:\n",
        "#    pickle.dump(w2v_vectors, f)\n",
        "\n",
        "f = open (embed_path, \"rb\")\n",
        "w2v_vectors = pickle.load(f)"
      ],
      "execution_count": 22,
      "outputs": []
    },
    {
      "cell_type": "code",
      "metadata": {
        "id": "qtYkIfif8_-h"
      },
      "source": [
        "w2v_matrix = np.zeros((len(tokenizer.word_index)+1, VEC_SIZE),\"float\")\n",
        "\n",
        "for idx, word in tokenizer.index_word.items():\n",
        "  try:\n",
        "    w2v_matrix[idx] = w2v_vectors[word]\n",
        "  except KeyError:\n",
        "    w2v_matrix[idx] = np.random.normal(scale=0.6, size=(VEC_SIZE, ))"
      ],
      "execution_count": 23,
      "outputs": []
    },
    {
      "cell_type": "markdown",
      "metadata": {
        "id": "udl2ahl8AwGQ"
      },
      "source": [
        "**Model Creation**"
      ]
    },
    {
      "cell_type": "code",
      "metadata": {
        "id": "IGP1yB1GApnY"
      },
      "source": [
        "class Model(Module):\n",
        "  def __init__(self, w2v_matrix, hidden_dim_text, hidden_dim_title, num_classes, device):\n",
        "    super(Model, self).__init__()\n",
        "    self.num_embeddings, self.embed_dimensions = w2v_matrix.shape\n",
        "    self.hidden_dim_text = hidden_dim_text\n",
        "    self.hidden_dim_title = hidden_dim_title\n",
        "    self.num_classes = num_classes\n",
        "    self.device = device\n",
        "\n",
        "    self.embedding = nn.Embedding(self.num_embeddings, self.embed_dimensions, padding_idx=0)\n",
        "    self.embedding.weight = nn.Parameter(torch.Tensor(w2v_matrix))\n",
        "    self.embedding.weight.requires_grad = False\n",
        "\n",
        "    self.lstm_text = torch.nn.LSTM(input_size=self.embed_dimensions, hidden_size=self.hidden_dim_text, bidirectional=False, batch_first=True)\n",
        "\n",
        "    self.lstm_title = torch.nn.LSTM(input_size=self.embed_dimensions, hidden_size=self.hidden_dim_title, bidirectional=False, batch_first=True)\n",
        "\n",
        "    self.lr1 = nn.Linear(2, 1)\n",
        "\n",
        "    self.fc1 = nn.Linear(self.hidden_dim_text + self.hidden_dim_title + 1, self.num_classes)\n",
        "\n",
        "    self.drop = nn.Dropout(0.4)\n",
        "\n",
        "  def forward(self, x):\n",
        "    h0_text, a0_text = torch.zeros(1,x.shape[0],self.hidden_dim_text), torch.zeros(1,x.shape[0],self.hidden_dim_text)\n",
        "    h0_title, a0_title = torch.zeros(1,x.shape[0],self.hidden_dim_title), torch.zeros(1,x.shape[0],self.hidden_dim_title)\n",
        "\n",
        "    h0_text = h0_text.to(device)\n",
        "    a0_text = a0_text.to(device)\n",
        "    h0_title = h0_title.to(device)\n",
        "    a0_title = a0_title.to(device)\n",
        "\n",
        "    x_linear = x[:,-2:]\n",
        "\n",
        "    x = self.embedding(x[:,:-2].int())\n",
        "\n",
        "    x_text, (hn_text, an_text) = self.lstm_text(x[:,:MAX_LEN_TEXT], (h0_text, a0_text))\n",
        "    x_title, (hn_title, an_title) = self.lstm_title(x[:,MAX_LEN_TEXT:], (h0_title, a0_title))\n",
        "    \n",
        "    x_text = x_text[:,-1,:]\n",
        "    x_title = x_title[:,-1,:]\n",
        "\n",
        "    x = torch.cat((x_text, x_title), 1)\n",
        "\n",
        "    x = self.drop(x)\n",
        "\n",
        "    x_linear = nn.ReLU()(self.lr1(x_linear))\n",
        "\n",
        "    x = torch.cat((x, x_linear), 1)\n",
        "   \n",
        "    x = self.fc1(x).view(x.shape[0],self.num_classes)\n",
        "\n",
        "    return x.squeeze(1)"
      ],
      "execution_count": 47,
      "outputs": []
    },
    {
      "cell_type": "code",
      "metadata": {
        "id": "PGgIxooODjgK"
      },
      "source": [
        "# model object\n",
        "classifier = Model(w2v_matrix, HIDDEN_DIM_TEXT, HIDDEN_DIM_TITLE, NUM_CLASSES, device).to(device)\n",
        "\n",
        "# loss function - binary cross entropy\n",
        "criterion = torch.nn.BCEWithLogitsLoss().to(device)\n",
        "\n",
        "# Adam optimizer\n",
        "optimizer = torch.optim.Adam(classifier.parameters(), lr=LEARNING_RATE)\n",
        "\n",
        "# Learning rate decay scheduler\n",
        "scheduler = torch.optim.lr_scheduler.StepLR(optimizer, step_size=10, gamma=0.1)"
      ],
      "execution_count": 74,
      "outputs": []
    },
    {
      "cell_type": "markdown",
      "metadata": {
        "id": "z0j1EQGzGVy6"
      },
      "source": [
        "**Setting up train and test dataloader**"
      ]
    },
    {
      "cell_type": "code",
      "metadata": {
        "id": "b8rb0LfZ8_zh"
      },
      "source": [
        "# Training dataset for training\n",
        "class Train_Dataset(Dataset):\n",
        "    def __init__(self, X, y):\n",
        "        self.X=X\n",
        "        self.y=y\n",
        "\n",
        "    def __len__(self):\n",
        "        return len(self.X)\n",
        "        \n",
        "    def __getitem__(self, index):\n",
        "        return self.X[index],self.y[index]\n",
        "\n",
        "# Test dataset\n",
        "class Test_Dataset(Dataset):\n",
        "    def __init__(self, X, id):\n",
        "        self.X = X\n",
        "        self.id = id\n",
        "\n",
        "    def __len__(self):\n",
        "        return len(self.X)\n",
        "        \n",
        "    def __getitem__(self, index):\n",
        "        return self.X[index], self.id[index]"
      ],
      "execution_count": 26,
      "outputs": []
    },
    {
      "cell_type": "code",
      "metadata": {
        "id": "pwDEeieR8_oA"
      },
      "source": [
        "train_dataset = Train_Dataset(X_train,y_train)\n",
        "\n",
        "train_loader = torch.utils.data.DataLoader(train_dataset, batch_size=BATCH_SIZE, shuffle=True)\n",
        "\n",
        "val_dataset = Train_Dataset(X_val,y_val)\n",
        "\n",
        "val_loader = torch.utils.data.DataLoader(val_dataset, batch_size=BATCH_SIZE, shuffle=True)"
      ],
      "execution_count": 35,
      "outputs": []
    },
    {
      "cell_type": "markdown",
      "metadata": {
        "id": "4QMvATcDGZJx"
      },
      "source": [
        "**Defining training and evaluation setup**"
      ]
    },
    {
      "cell_type": "code",
      "metadata": {
        "id": "TxWTsCiT8_b8"
      },
      "source": [
        "def train(model, test_loader, device, criterion, optimizer):\n",
        "    model.train()\n",
        "    train_loss_epoch = 0\n",
        "    correct = 0\n",
        "    for idx,(data, target) in enumerate(train_loader):\n",
        "\n",
        "        data = data.to(device)\n",
        "        target = target.to(device)\n",
        "\n",
        "        optimizer.zero_grad()\n",
        "\n",
        "        y_hat = model(data)\n",
        "        train_loss_batch = criterion(y_hat, target)\n",
        "        train_loss_epoch += train_loss_batch.data.item()\n",
        "\n",
        "        train_loss_batch.backward()\n",
        "        optimizer.step()\n",
        "\n",
        "        y_hat[y_hat>=0.5] = 1\n",
        "        y_hat[y_hat<0.5] = 0\n",
        "\n",
        "        correct += y_hat.eq(target.view_as(y_hat)).sum().item()\n",
        "\n",
        "    return train_loss_epoch/len(train_loader), correct/len(train_loader.dataset)\n",
        "\n",
        "\n",
        "def val(model, val_loader, device, criterion):\n",
        "    val_loss_epoch = 0\n",
        "    correct = 0\n",
        "    model.eval()\n",
        "    with torch.no_grad():\n",
        "      for idx,(data, target) in enumerate(val_loader):\n",
        "\n",
        "          data = data.to(device)\n",
        "          target = target.to(device)\n",
        "          \n",
        "          y_hat = model(data)\n",
        "          val_loss_batch = criterion(y_hat, target)\n",
        "          val_loss_epoch += val_loss_batch.data.item()\n",
        "\n",
        "          y_hat[y_hat>=0.5] = 1\n",
        "          y_hat[y_hat<0.5] = 0\n",
        "\n",
        "          correct += y_hat.eq(target.view_as(y_hat)).sum().item()\n",
        "\n",
        "    return val_loss_epoch/len(val_loader), correct/len(val_loader.dataset)"
      ],
      "execution_count": 28,
      "outputs": []
    },
    {
      "cell_type": "code",
      "metadata": {
        "id": "m81gFOm4D9hM"
      },
      "source": [
        "def plot_loss(metric, train, val):\n",
        "\n",
        "    plt.plot(train)\n",
        "    plt.plot(val)\n",
        "    plt.title(\"model_{}\".format(metric))\n",
        "    plt.ylabel(metric)\n",
        "    plt.xlabel('epoch')\n",
        "    if metric == \"loss\":\n",
        "      plt.legend(['train', 'val'], loc='upper right')\n",
        "    else:\n",
        "      plt.legend(['train', 'val'], loc='lower right')\n",
        "\n",
        "    plt.show()\n",
        "\n",
        "\n",
        "def predict(model, X, device):\n",
        "  model.eval()\n",
        "  with torch.no_grad():\n",
        "    X = X.to(device)\n",
        "    y_pred = model(X)\n",
        "    y_pred = torch.sigmoid(y_pred)\n",
        "\n",
        "    return y_pred.cpu()\n",
        "\n",
        "\n",
        "def eval(model, y_true, y_pred, thres):\n",
        "  y_pred[y_pred>=thres] = 1\n",
        "  y_pred[y_pred<thres] = 0\n",
        "\n",
        "  print (\"\\nConfusion Matrix\\n\")\n",
        "  print (confusion_matrix(y_true, y_pred))\n",
        "\n",
        "  print (\"\\nClassification Report\\n\")\n",
        "  print (classification_report(y_true, y_pred))\n",
        "\n",
        "  print (\"\\nROC_AUC\\n\")\n",
        "  print (roc_auc_score(y_true, y_pred))\n",
        "\n",
        "  print (\"\\nROC Curve\\n\")\n",
        "  fpr, tpr,_ = roc_curve(y_true,y_pred)\n",
        "\n",
        "  fig, ax = plt.subplots(figsize=(8, 6))\n",
        "  ax.plot(fpr, tpr,label='Train')\n",
        "  ax.set_xlabel('FPR', fontsize=12)\n",
        "  ax.set_ylabel('TPR', fontsize=12)\n",
        "\n",
        "  plt.show()"
      ],
      "execution_count": 77,
      "outputs": []
    },
    {
      "cell_type": "markdown",
      "metadata": {
        "id": "zVG0SA9xlozx"
      },
      "source": [
        "**Model training**"
      ]
    },
    {
      "cell_type": "code",
      "metadata": {
        "colab": {
          "base_uri": "https://localhost:8080/"
        },
        "id": "mk4cyjjQMgbS",
        "outputId": "22a5ab81-16c6-420b-d6d4-616a51e3948f"
      },
      "source": [
        "train_loss = []\n",
        "train_acc = []\n",
        "val_loss = []\n",
        "val_acc = []\n",
        "                    \n",
        "for i in range(EPOCHS):\n",
        "    \n",
        "    train_loss_epoch, train_acc_epoch = train(classifier, train_loader, device, criterion, optimizer)\n",
        "    train_loss.append(train_loss_epoch)\n",
        "    train_acc.append(train_acc_epoch)\n",
        "\n",
        "    val_loss_epoch, val_acc_epoch = val(classifier, val_loader, device, criterion)\n",
        "    val_loss.append(val_loss_epoch)\n",
        "    val_acc.append(val_acc_epoch)\n",
        "\n",
        "    # scheduler.step()\n",
        "\n",
        "    if i%2==0:\n",
        "        print (\"Learning rate: \", scheduler.state_dict()[\"_last_lr\"])\n",
        "        print (\"Epoch:{} Train Loss:{:.4f}  Val Loss:{:.4f} Train Acc:{:.4f}  Val Acc:{:.4f}\".format(i,train_loss[-1],val_loss[-1],train_acc[-1],val_acc[-1]))"
      ],
      "execution_count": 49,
      "outputs": [
        {
          "output_type": "stream",
          "text": [
            "Learning rate:  [0.001]\n",
            "Epoch:0 Train Loss:0.6817  Val Loss:0.6745 Train Acc:0.5037  Val Acc:0.4995\n",
            "Learning rate:  [0.001]\n",
            "Epoch:2 Train Loss:0.6408  Val Loss:0.6338 Train Acc:0.5880  Val Acc:0.5994\n",
            "Learning rate:  [0.001]\n",
            "Epoch:4 Train Loss:0.6132  Val Loss:0.6081 Train Acc:0.6560  Val Acc:0.6576\n",
            "Learning rate:  [0.001]\n",
            "Epoch:6 Train Loss:0.5893  Val Loss:0.4076 Train Acc:0.6774  Val Acc:0.8397\n",
            "Learning rate:  [0.001]\n",
            "Epoch:8 Train Loss:0.0893  Val Loss:0.0716 Train Acc:0.9701  Val Acc:0.9749\n",
            "Learning rate:  [0.001]\n",
            "Epoch:10 Train Loss:0.0498  Val Loss:0.0641 Train Acc:0.9855  Val Acc:0.9856\n",
            "Learning rate:  [0.001]\n",
            "Epoch:12 Train Loss:0.0379  Val Loss:0.0660 Train Acc:0.9900  Val Acc:0.9856\n",
            "Learning rate:  [0.001]\n",
            "Epoch:14 Train Loss:0.0304  Val Loss:0.0590 Train Acc:0.9919  Val Acc:0.9818\n",
            "Learning rate:  [0.001]\n",
            "Epoch:16 Train Loss:0.0265  Val Loss:0.0486 Train Acc:0.9934  Val Acc:0.9866\n",
            "Learning rate:  [0.001]\n",
            "Epoch:18 Train Loss:0.0242  Val Loss:0.0624 Train Acc:0.9947  Val Acc:0.9866\n",
            "Learning rate:  [0.001]\n",
            "Epoch:20 Train Loss:0.0244  Val Loss:0.0728 Train Acc:0.9943  Val Acc:0.9829\n",
            "Learning rate:  [0.001]\n",
            "Epoch:22 Train Loss:0.0195  Val Loss:0.0591 Train Acc:0.9960  Val Acc:0.9856\n",
            "Learning rate:  [0.001]\n",
            "Epoch:24 Train Loss:0.0195  Val Loss:0.0575 Train Acc:0.9955  Val Acc:0.9861\n",
            "Learning rate:  [0.001]\n",
            "Epoch:26 Train Loss:0.0152  Val Loss:0.0696 Train Acc:0.9970  Val Acc:0.9866\n",
            "Learning rate:  [0.001]\n",
            "Epoch:28 Train Loss:0.0180  Val Loss:0.0666 Train Acc:0.9959  Val Acc:0.9882\n"
          ],
          "name": "stdout"
        }
      ]
    },
    {
      "cell_type": "code",
      "metadata": {
        "colab": {
          "base_uri": "https://localhost:8080/",
          "height": 573
        },
        "id": "VdOtU8vmlGE0",
        "outputId": "9facb4fc-fdb2-4a70-c7ba-d87f2db43479"
      },
      "source": [
        "plot_loss(\"loss\", train_loss, val_loss)\n",
        "plot_loss(\"acc\", train_acc, val_acc)"
      ],
      "execution_count": 51,
      "outputs": [
        {
          "output_type": "display_data",
          "data": {
            "image/png": "[encoded data removed]",
            "text/plain": [
              "<Figure size 432x288 with 1 Axes>"
            ]
          },
          "metadata": {
            "tags": [],
            "needs_background": "light"
          }
        },
        {
          "output_type": "display_data",
          "data": {
            "image/png": "[encoded data removed]",
            "text/plain": [
              "<Figure size 432x288 with 1 Axes>"
            ]
          },
          "metadata": {
            "tags": [],
            "needs_background": "light"
          }
        }
      ]
    },
    {
      "cell_type": "markdown",
      "metadata": {
        "id": "E_U86citGknf"
      },
      "source": [
        "**Model evaluation**"
      ]
    },
    {
      "cell_type": "code",
      "metadata": {
        "colab": {
          "base_uri": "https://localhost:8080/",
          "height": 799
        },
        "id": "5qOHB0vGpBdl",
        "outputId": "e8be0327-8868-4e09-f407-69e987004c2e"
      },
      "source": [
        "y_pred_test = predict(classifier, X_test, device)\n",
        "\n",
        "eval(classifier, y_test, y_pred_test, 0.5)"
      ],
      "execution_count": 78,
      "outputs": [
        {
          "output_type": "stream",
          "text": [
            "\n",
            "Confusion Matrix\n",
            "\n",
            "[[1029   10]\n",
            " [  17 1024]]\n",
            "\n",
            "Classification Report\n",
            "\n",
            "              precision    recall  f1-score   support\n",
            "\n",
            "         0.0       0.98      0.99      0.99      1039\n",
            "         1.0       0.99      0.98      0.99      1041\n",
            "\n",
            "    accuracy                           0.99      2080\n",
            "   macro avg       0.99      0.99      0.99      2080\n",
            "weighted avg       0.99      0.99      0.99      2080\n",
            "\n",
            "\n",
            "ROC_AUC\n",
            "\n",
            "0.9870224547175063\n",
            "\n",
            "ROC Curve\n",
            "\n"
          ],
          "name": "stdout"
        },
        {
          "output_type": "display_data",
          "data": {
            "image/png": "[encoded data removed]",
            "text/plain": [
              "<Figure size 576x432 with 1 Axes>"
            ]
          },
          "metadata": {
            "tags": [],
            "needs_background": "light"
          }
        }
      ]
    },
    {
      "cell_type": "markdown",
      "metadata": {
        "id": "euJcXtWiGu89"
      },
      "source": [
        "**Generate Submission**"
      ]
    },
    {
      "cell_type": "code",
      "metadata": {
        "id": "eQsGA3lc-bls"
      },
      "source": [
        "class Submission():\n",
        "  def __init__(self, thres, device, test_loader):\n",
        "    self.thres = thres\n",
        "    self.device = device\n",
        "    self.data_loader = test_loader\n",
        "\n",
        "  def _generate_df(self, id, y):\n",
        "\n",
        "    df = pd.DataFrame(zip(id, y), columns=[\"id\",\"label\"])\n",
        "    return df\n",
        "\n",
        "  def test(self, model):\n",
        "\n",
        "    model.eval()\n",
        "    test_ids = []\n",
        "    test_pred = []\n",
        "    with torch.no_grad():\n",
        "      for idx,(data, id) in enumerate(self.data_loader):\n",
        "\n",
        "          data = data.to(device)\n",
        "          \n",
        "          y_hat = model(data)\n",
        "\n",
        "          y_hat[y_hat>=self.thres] = 1\n",
        "          y_hat[y_hat<self.thres] = 0\n",
        "\n",
        "          test_ids.extend(id.cpu().numpy())\n",
        "          test_pred.extend(y_hat.cpu().int().numpy())\n",
        "\n",
        "    submission = self._generate_df(test_ids, test_pred)\n",
        "\n",
        "    return submission"
      ],
      "execution_count": 52,
      "outputs": []
    },
    {
      "cell_type": "code",
      "metadata": {
        "id": "wEHHzTwv-bYV"
      },
      "source": [
        "df_submit = pd.read_csv(test_path)\n",
        "\n",
        "X_submit, ids_submit = preprocessor.process(df_submit, \"test\")\n",
        "\n",
        "X_submit = torch.from_numpy(X_submit).float()\n",
        "\n",
        "submit_dataset = Test_Dataset(X_submit, ids_submit)\n",
        "\n",
        "submit_loader = torch.utils.data.DataLoader(submit_dataset, batch_size=BATCH_SIZE)"
      ],
      "execution_count": 53,
      "outputs": []
    },
    {
      "cell_type": "code",
      "metadata": {
        "id": "RPgYi4C78_Qf"
      },
      "source": [
        "submission = Submission(0.5, device, submit_loader)\n",
        "\n",
        "df_submission = submission.test(classifier)\n",
        "\n",
        "df_submission.to_csv(submission_path + \"submit.csv\", index=False)"
      ],
      "execution_count": 54,
      "outputs": []
    },
    {
      "cell_type": "code",
      "metadata": {
        "id": "0Fz26-Ji8_N-",
        "colab": {
          "base_uri": "https://localhost:8080/"
        },
        "outputId": "c0f82973-8a43-4608-f48c-8d7f31b9a42f"
      },
      "source": [
        "df_submission.shape"
      ],
      "execution_count": 55,
      "outputs": [
        {
          "output_type": "execute_result",
          "data": {
            "text/plain": [
              "(5200, 2)"
            ]
          },
          "metadata": {
            "tags": []
          },
          "execution_count": 55
        }
      ]
    },
    {
      "cell_type": "code",
      "metadata": {
        "colab": {
          "base_uri": "https://localhost:8080/",
          "height": 204
        },
        "id": "eS1S9biIYmvX",
        "outputId": "63f04336-668b-4817-99a7-6c7ed75150c2"
      },
      "source": [
        "df_submission.head()"
      ],
      "execution_count": 56,
      "outputs": [
        {
          "output_type": "execute_result",
          "data": {
            "text/html": [
              "<div>\n",
              "<style scoped>\n",
              "    .dataframe tbody tr th:only-of-type {\n",
              "        vertical-align: middle;\n",
              "    }\n",
              "\n",
              "    .dataframe tbody tr th {\n",
              "        vertical-align: top;\n",
              "    }\n",
              "\n",
              "    .dataframe thead th {\n",
              "        text-align: right;\n",
              "    }\n",
              "</style>\n",
              "<table border=\"1\" class=\"dataframe\">\n",
              "  <thead>\n",
              "    <tr style=\"text-align: right;\">\n",
              "      <th></th>\n",
              "      <th>id</th>\n",
              "      <th>label</th>\n",
              "    </tr>\n",
              "  </thead>\n",
              "  <tbody>\n",
              "    <tr>\n",
              "      <th>0</th>\n",
              "      <td>20800</td>\n",
              "      <td>0</td>\n",
              "    </tr>\n",
              "    <tr>\n",
              "      <th>1</th>\n",
              "      <td>20801</td>\n",
              "      <td>1</td>\n",
              "    </tr>\n",
              "    <tr>\n",
              "      <th>2</th>\n",
              "      <td>20802</td>\n",
              "      <td>1</td>\n",
              "    </tr>\n",
              "    <tr>\n",
              "      <th>3</th>\n",
              "      <td>20803</td>\n",
              "      <td>0</td>\n",
              "    </tr>\n",
              "    <tr>\n",
              "      <th>4</th>\n",
              "      <td>20804</td>\n",
              "      <td>1</td>\n",
              "    </tr>\n",
              "  </tbody>\n",
              "</table>\n",
              "</div>"
            ],
            "text/plain": [
              "      id  label\n",
              "0  20800      0\n",
              "1  20801      1\n",
              "2  20802      1\n",
              "3  20803      0\n",
              "4  20804      1"
            ]
          },
          "metadata": {
            "tags": []
          },
          "execution_count": 56
        }
      ]
    },
    {
      "cell_type": "code",
      "metadata": {
        "id": "xTiD1oI6qLwL"
      },
      "source": [
        ""
      ],
      "execution_count": null,
      "outputs": []
    }
  ]
}
